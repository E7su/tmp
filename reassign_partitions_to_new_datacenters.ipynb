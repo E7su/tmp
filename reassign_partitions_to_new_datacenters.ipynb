{
 "cells": [
  {
   "cell_type": "code",
   "execution_count": 1,
   "metadata": {
    "collapsed": true
   },
   "outputs": [],
   "source": [
    "import json\n",
    "import random\n",
    "from subprocess import Popen, PIPE"
   ]
  },
  {
   "cell_type": "code",
   "execution_count": 2,
   "metadata": {
    "collapsed": true
   },
   "outputs": [],
   "source": [
    "# Datacenter's name: list of the brokers\n",
    "hosts_dict = {0: [0, 1, 2], 1: [3, 4, 5], 2: [6, 7, 8]}"
   ]
  },
  {
   "cell_type": "code",
   "execution_count": 3,
   "metadata": {},
   "outputs": [
    {
     "data": {
      "text/plain": [
       "[0, 1, 2]"
      ]
     },
     "execution_count": 3,
     "metadata": {},
     "output_type": "execute_result"
    }
   ],
   "source": [
    "# List of the datacenters\n",
    "hosts_dict[0]"
   ]
  },
  {
   "cell_type": "code",
   "execution_count": 4,
   "metadata": {},
   "outputs": [
    {
     "name": "stdout",
     "output_type": "stream",
     "text": [
      "\n",
      "{\n",
      "    \"partitions\": [{\n",
      "        \"topic\": \"foo\",\n",
      "        \"partition\": 1,\n",
      "        \"replicas\": [1, 2, 4]\n",
      "    }],\n",
      "    \"version\": 1\n",
      "}\n",
      "\n"
     ]
    }
   ],
   "source": [
    "default_json = \"\"\"\n",
    "{\n",
    "    \"partitions\": [{\n",
    "        \"topic\": \"foo\",\n",
    "        \"partition\": 1,\n",
    "        \"replicas\": [1, 2, 4]\n",
    "    }],\n",
    "    \"version\": 1\n",
    "}\n",
    "\"\"\"\n",
    "print(default_json)"
   ]
  },
  {
   "cell_type": "code",
   "execution_count": 5,
   "metadata": {},
   "outputs": [
    {
     "name": "stdout",
     "output_type": "stream",
     "text": [
      "{'version': 1, 'partitions': []}\n",
      "{'replicas': [1, 2, 4], 'partition': 1, 'topic': 'foo'}\n"
     ]
    }
   ],
   "source": [
    "parsed_string = json.loads(default_json)\n",
    "desc_of_each_part = parsed_string['partitions'][0].copy()\n",
    "parsed_string['partitions'].clear()\n",
    "\n",
    "print(parsed_string)\n",
    "print(desc_of_each_part)"
   ]
  },
  {
   "cell_type": "code",
   "execution_count": 6,
   "metadata": {
    "collapsed": true
   },
   "outputs": [],
   "source": [
    "# Generate new list of the brokers (for storage partitions for each topics on the new datacenters)\n",
    "def create_extended_broker_list():\n",
    "    updated_broker_list = []\n",
    "\n",
    "    for datacenter_num in hosts_dict:\n",
    "        # List of the brokers in the current datacenter\n",
    "        broker_list = hosts_dict[datacenter_num]\n",
    "        current_broker = random.choice(broker_list)\n",
    "        updated_broker_list.append(current_broker)\n",
    "\n",
    "    return updated_broker_list"
   ]
  },
  {
   "cell_type": "code",
   "execution_count": 7,
   "metadata": {
    "collapsed": true
   },
   "outputs": [],
   "source": [
    "def create_json_for_partitions():\n",
    "    # Getting a list of the topics from terminal\n",
    "    p = Popen(['/home/temp/Projects/flink_metrics/kafka_2.10-0.10.2.1/bin/kafka-topics.sh --list --zookeeper localhost:2181'], shell=True, stdout=PIPE)\n",
    "\n",
    "    # For each topic:\n",
    "    for topic in p.stdout:\n",
    "        # Write the name of the topic without \\n\n",
    "        desc_of_each_part['topic'] = (topic[:-1]).decode()\n",
    "        # Determine brokers for storage partitions for this topic\n",
    "        desc_of_each_part['replicas'] = create_extended_broker_list()\n",
    "        # Add new info to json\n",
    "        parsed_string['partitions'].append(desc_of_each_part.copy())\n",
    "    return parsed_string"
   ]
  },
  {
   "cell_type": "code",
   "execution_count": 8,
   "metadata": {
    "scrolled": false
   },
   "outputs": [
    {
     "name": "stdout",
     "output_type": "stream",
     "text": [
      "{\n",
      "    \"partitions\": [\n",
      "        {\n",
      "            \"partition\": 1,\n",
      "            \"replicas\": [\n",
      "                1,\n",
      "                3,\n",
      "                7\n",
      "            ],\n",
      "            \"topic\": \"__consumer_offsets\"\n",
      "        },\n",
      "        {\n",
      "            \"partition\": 1,\n",
      "            \"replicas\": [\n",
      "                1,\n",
      "                4,\n",
      "                6\n",
      "            ],\n",
      "            \"topic\": \"fast-messages\"\n",
      "        },\n",
      "        {\n",
      "            \"partition\": 1,\n",
      "            \"replicas\": [\n",
      "                2,\n",
      "                5,\n",
      "                7\n",
      "            ],\n",
      "            \"topic\": \"summary-markers\"\n",
      "        }\n",
      "    ],\n",
      "    \"version\": 1\n",
      "}\n"
     ]
    }
   ],
   "source": [
    "def main():\n",
    "    list_for_json = create_json_for_partitions()\n",
    "    result_json = json.dumps(list_for_json)\n",
    "    \n",
    "    # Magic happens here to make it pretty-printed\n",
    "    pretty_json = json.dumps(json.loads(result_json), indent=4, sort_keys=True)\n",
    "    print(pretty_json)\n",
    "        \n",
    "    # Now write output to a file\n",
    "    json_file = open(\"partitions-to-move.json\", \"w\")\n",
    "    json_file.write(pretty_json)\n",
    "    json_file.close()  \n",
    "\n",
    "\n",
    "if __name__ == \"__main__\":\n",
    "    main()"
   ]
  }
 ],
 "metadata": {
  "kernelspec": {
   "display_name": "Python 3",
   "language": "python",
   "name": "python3"
  },
  "language_info": {
   "codemirror_mode": {
    "name": "ipython",
    "version": 3
   },
   "file_extension": ".py",
   "mimetype": "text/x-python",
   "name": "python",
   "nbconvert_exporter": "python",
   "pygments_lexer": "ipython3",
   "version": "3.5.2"
  }
 },
 "nbformat": 4,
 "nbformat_minor": 2
}
